{
  "nbformat": 4,
  "nbformat_minor": 0,
  "metadata": {
    "kernelspec": {
      "display_name": "Python 3",
      "language": "python",
      "name": "python3"
    },
    "language_info": {
      "codemirror_mode": {
        "name": "ipython",
        "version": 3
      },
      "file_extension": ".py",
      "mimetype": "text/x-python",
      "name": "python",
      "nbconvert_exporter": "python",
      "pygments_lexer": "ipython3",
      "version": "3.8.10"
    },
    "colab": {
      "name": "Copy of conversion_with_metadata_Tan.ipynb",
      "provenance": [],
      "collapsed_sections": [],
      "include_colab_link": true
    }
  },
  "cells": [
    {
      "cell_type": "markdown",
      "metadata": {
        "id": "view-in-github",
        "colab_type": "text"
      },
      "source": [
        "<a href=\"https://colab.research.google.com/github/hmtanmaiyee/NWB/blob/main/Copy_of_conversion_with_metadata_Tan.ipynb\" target=\"_parent\"><img src=\"https://colab.research.google.com/assets/colab-badge.svg\" alt=\"Open In Colab\"/></a>"
      ]
    },
    {
      "cell_type": "markdown",
      "metadata": {
        "id": "djZWiMbawb6-"
      },
      "source": [
        "## Convert patchmaster .dat to .nwb form at and add metadata and experimental details"
      ]
    },
    {
      "cell_type": "code",
      "metadata": {
        "id": "KB9L0AkczA6x"
      },
      "source": [
        ""
      ],
      "execution_count": null,
      "outputs": []
    },
    {
      "cell_type": "markdown",
      "metadata": {
        "id": "x2FKnInFwb7G"
      },
      "source": [
        "### Import modules and setup filenames\n"
      ]
    },
    {
      "cell_type": "code",
      "metadata": {
        "colab": {
          "base_uri": "https://localhost:8080/"
        },
        "id": "3phFSE2iyPYj",
        "outputId": "fe40cece-1716-4b93-f6aa-603b05bc81a2"
      },
      "source": [
        "!pip install -U pynwb\n",
        "!pip install roman\n",
        "!pip install x-to-nwb\n"
      ],
      "execution_count": null,
      "outputs": [
        {
          "output_type": "stream",
          "name": "stdout",
          "text": [
            "Requirement already satisfied: pynwb in /usr/local/lib/python3.7/dist-packages (2.0.0)\n",
            "Requirement already satisfied: setuptools in /usr/local/lib/python3.7/dist-packages (from pynwb) (57.4.0)\n",
            "Requirement already satisfied: numpy<1.22,>=1.16 in /usr/local/lib/python3.7/dist-packages (from pynwb) (1.19.5)\n",
            "Requirement already satisfied: python-dateutil<3,>=2.7 in /usr/local/lib/python3.7/dist-packages (from pynwb) (2.8.2)\n",
            "Requirement already satisfied: hdmf<4,>=3.1.1 in /usr/local/lib/python3.7/dist-packages (from pynwb) (3.1.1)\n",
            "Requirement already satisfied: h5py<4,>=2.9 in /usr/local/lib/python3.7/dist-packages (from pynwb) (3.1.0)\n",
            "Requirement already satisfied: pandas<2,>=1.0.5 in /usr/local/lib/python3.7/dist-packages (from pynwb) (1.1.5)\n",
            "Requirement already satisfied: cached-property in /usr/local/lib/python3.7/dist-packages (from h5py<4,>=2.9->pynwb) (1.5.2)\n",
            "Requirement already satisfied: ruamel.yaml<1,>=0.16 in /usr/local/lib/python3.7/dist-packages (from hdmf<4,>=3.1.1->pynwb) (0.17.17)\n",
            "Requirement already satisfied: jsonschema<4,>=2.6.0 in /usr/local/lib/python3.7/dist-packages (from hdmf<4,>=3.1.1->pynwb) (2.6.0)\n",
            "Requirement already satisfied: scipy<2,>=1.1 in /usr/local/lib/python3.7/dist-packages (from hdmf<4,>=3.1.1->pynwb) (1.4.1)\n",
            "Requirement already satisfied: pytz>=2017.2 in /usr/local/lib/python3.7/dist-packages (from pandas<2,>=1.0.5->pynwb) (2018.9)\n",
            "Requirement already satisfied: six>=1.5 in /usr/local/lib/python3.7/dist-packages (from python-dateutil<3,>=2.7->pynwb) (1.15.0)\n",
            "Requirement already satisfied: ruamel.yaml.clib>=0.1.2 in /usr/local/lib/python3.7/dist-packages (from ruamel.yaml<1,>=0.16->hdmf<4,>=3.1.1->pynwb) (0.2.6)\n",
            "Requirement already satisfied: roman in /usr/local/lib/python3.7/dist-packages (3.3)\n",
            "Collecting x-to-nwb\n",
            "  Downloading x_to_nwb-0.2.2-py2.py3-none-any.whl (40 kB)\n",
            "\u001b[K     |████████████████████████████████| 40 kB 5.2 MB/s \n",
            "\u001b[?25hCollecting pytest>=6.1.2\n",
            "  Downloading pytest-6.2.5-py3-none-any.whl (280 kB)\n",
            "\u001b[K     |████████████████████████████████| 280 kB 13.3 MB/s \n",
            "\u001b[?25hCollecting versioneer>=0.19\n",
            "  Downloading versioneer-0.21-py3-none-any.whl (42 kB)\n",
            "\u001b[K     |████████████████████████████████| 42 kB 1.3 MB/s \n",
            "\u001b[?25hCollecting black>=20.8b1\n",
            "  Downloading black-21.11b1-py3-none-any.whl (155 kB)\n",
            "\u001b[K     |████████████████████████████████| 155 kB 72.7 MB/s \n",
            "\u001b[?25hCollecting pytest-xdist>=2.1.0\n",
            "  Downloading pytest_xdist-2.4.0-py3-none-any.whl (38 kB)\n",
            "Collecting pyabf>=2.2.8\n",
            "  Downloading pyabf-2.3.5.tar.gz (44 kB)\n",
            "\u001b[K     |████████████████████████████████| 44 kB 2.5 MB/s \n",
            "\u001b[?25hCollecting pynwb<2.0.0,>=1.3.2\n",
            "  Downloading pynwb-1.5.1-py2.py3-none-any.whl (98 kB)\n",
            "\u001b[K     |████████████████████████████████| 98 kB 10.4 MB/s \n",
            "\u001b[?25hCollecting flake8>=3.8.4\n",
            "  Downloading flake8-4.0.1-py2.py3-none-any.whl (64 kB)\n",
            "\u001b[K     |████████████████████████████████| 64 kB 3.5 MB/s \n",
            "\u001b[?25hCollecting twine>=3.2.0\n",
            "  Downloading twine-3.7.0-py3-none-any.whl (35 kB)\n",
            "Collecting h5py<3,>=2.10.0\n",
            "  Downloading h5py-2.10.0-cp37-cp37m-manylinux1_x86_64.whl (2.9 MB)\n",
            "\u001b[K     |████████████████████████████████| 2.9 MB 38.9 MB/s \n",
            "\u001b[?25hRequirement already satisfied: tomli<2.0.0,>=0.2.6 in /usr/local/lib/python3.7/dist-packages (from black>=20.8b1->x-to-nwb) (1.2.2)\n",
            "Collecting regex>=2021.4.4\n",
            "  Downloading regex-2021.11.10-cp37-cp37m-manylinux_2_17_x86_64.manylinux2014_x86_64.whl (749 kB)\n",
            "\u001b[K     |████████████████████████████████| 749 kB 37.6 MB/s \n",
            "\u001b[?25hCollecting mypy-extensions>=0.4.3\n",
            "  Downloading mypy_extensions-0.4.3-py2.py3-none-any.whl (4.5 kB)\n",
            "Collecting typed-ast>=1.4.2\n",
            "  Downloading typed_ast-1.5.1-cp37-cp37m-manylinux_2_5_x86_64.manylinux1_x86_64.manylinux_2_12_x86_64.manylinux2010_x86_64.whl (843 kB)\n",
            "\u001b[K     |████████████████████████████████| 843 kB 54.0 MB/s \n",
            "\u001b[?25hCollecting platformdirs>=2\n",
            "  Downloading platformdirs-2.4.0-py3-none-any.whl (14 kB)\n",
            "Collecting pathspec<1,>=0.9.0\n",
            "  Downloading pathspec-0.9.0-py2.py3-none-any.whl (31 kB)\n",
            "Requirement already satisfied: click>=7.1.2 in /usr/local/lib/python3.7/dist-packages (from black>=20.8b1->x-to-nwb) (7.1.2)\n",
            "Requirement already satisfied: typing-extensions>=3.10.0.0 in /usr/local/lib/python3.7/dist-packages (from black>=20.8b1->x-to-nwb) (3.10.0.2)\n",
            "Collecting pyflakes<2.5.0,>=2.4.0\n",
            "  Downloading pyflakes-2.4.0-py2.py3-none-any.whl (69 kB)\n",
            "\u001b[K     |████████████████████████████████| 69 kB 9.0 MB/s \n",
            "\u001b[?25hCollecting mccabe<0.7.0,>=0.6.0\n",
            "  Downloading mccabe-0.6.1-py2.py3-none-any.whl (8.6 kB)\n",
            "Collecting importlib-metadata<4.3\n",
            "  Downloading importlib_metadata-4.2.0-py3-none-any.whl (16 kB)\n",
            "Collecting pycodestyle<2.9.0,>=2.8.0\n",
            "  Downloading pycodestyle-2.8.0-py2.py3-none-any.whl (42 kB)\n",
            "\u001b[K     |████████████████████████████████| 42 kB 1.2 MB/s \n",
            "\u001b[?25hRequirement already satisfied: numpy>=1.7 in /usr/local/lib/python3.7/dist-packages (from h5py<3,>=2.10.0->x-to-nwb) (1.19.5)\n",
            "Requirement already satisfied: six in /usr/local/lib/python3.7/dist-packages (from h5py<3,>=2.10.0->x-to-nwb) (1.15.0)\n",
            "Requirement already satisfied: zipp>=0.5 in /usr/local/lib/python3.7/dist-packages (from importlib-metadata<4.3->flake8>=3.8.4->x-to-nwb) (3.6.0)\n",
            "Requirement already satisfied: matplotlib>=2.1.0 in /usr/local/lib/python3.7/dist-packages (from pyabf>=2.2.8->x-to-nwb) (3.2.2)\n",
            "Requirement already satisfied: kiwisolver>=1.0.1 in /usr/local/lib/python3.7/dist-packages (from matplotlib>=2.1.0->pyabf>=2.2.8->x-to-nwb) (1.3.2)\n",
            "Requirement already satisfied: python-dateutil>=2.1 in /usr/local/lib/python3.7/dist-packages (from matplotlib>=2.1.0->pyabf>=2.2.8->x-to-nwb) (2.8.2)\n",
            "Requirement already satisfied: pyparsing!=2.0.4,!=2.1.2,!=2.1.6,>=2.0.1 in /usr/local/lib/python3.7/dist-packages (from matplotlib>=2.1.0->pyabf>=2.2.8->x-to-nwb) (3.0.6)\n",
            "Requirement already satisfied: cycler>=0.10 in /usr/local/lib/python3.7/dist-packages (from matplotlib>=2.1.0->pyabf>=2.2.8->x-to-nwb) (0.11.0)\n",
            "Collecting hdmf<3,>=2.5.6\n",
            "  Downloading hdmf-2.5.8-py2.py3-none-any.whl (164 kB)\n",
            "\u001b[K     |████████████████████████████████| 164 kB 57.7 MB/s \n",
            "\u001b[?25hRequirement already satisfied: pandas<2,>=1.0.5 in /usr/local/lib/python3.7/dist-packages (from pynwb<2.0.0,>=1.3.2->x-to-nwb) (1.1.5)\n",
            "Requirement already satisfied: setuptools in /usr/local/lib/python3.7/dist-packages (from pynwb<2.0.0,>=1.3.2->x-to-nwb) (57.4.0)\n",
            "Requirement already satisfied: scipy<2,>=1.1 in /usr/local/lib/python3.7/dist-packages (from hdmf<3,>=2.5.6->pynwb<2.0.0,>=1.3.2->x-to-nwb) (1.4.1)\n",
            "Requirement already satisfied: ruamel.yaml<1,>=0.15 in /usr/local/lib/python3.7/dist-packages (from hdmf<3,>=2.5.6->pynwb<2.0.0,>=1.3.2->x-to-nwb) (0.17.17)\n",
            "Requirement already satisfied: jsonschema<4,>=2.6.0 in /usr/local/lib/python3.7/dist-packages (from hdmf<3,>=2.5.6->pynwb<2.0.0,>=1.3.2->x-to-nwb) (2.6.0)\n",
            "Requirement already satisfied: pytz>=2017.2 in /usr/local/lib/python3.7/dist-packages (from pandas<2,>=1.0.5->pynwb<2.0.0,>=1.3.2->x-to-nwb) (2018.9)\n",
            "Requirement already satisfied: iniconfig in /usr/local/lib/python3.7/dist-packages (from pytest>=6.1.2->x-to-nwb) (1.1.1)\n",
            "Collecting pluggy<2.0,>=0.12\n",
            "  Downloading pluggy-1.0.0-py2.py3-none-any.whl (13 kB)\n",
            "Requirement already satisfied: packaging in /usr/local/lib/python3.7/dist-packages (from pytest>=6.1.2->x-to-nwb) (21.3)\n",
            "Requirement already satisfied: py>=1.8.2 in /usr/local/lib/python3.7/dist-packages (from pytest>=6.1.2->x-to-nwb) (1.11.0)\n",
            "Requirement already satisfied: attrs>=19.2.0 in /usr/local/lib/python3.7/dist-packages (from pytest>=6.1.2->x-to-nwb) (21.2.0)\n",
            "Requirement already satisfied: toml in /usr/local/lib/python3.7/dist-packages (from pytest>=6.1.2->x-to-nwb) (0.10.2)\n",
            "Collecting pytest-forked\n",
            "  Downloading pytest_forked-1.3.0-py2.py3-none-any.whl (4.7 kB)\n",
            "Collecting execnet>=1.1\n",
            "  Downloading execnet-1.9.0-py2.py3-none-any.whl (39 kB)\n",
            "Requirement already satisfied: ruamel.yaml.clib>=0.1.2 in /usr/local/lib/python3.7/dist-packages (from ruamel.yaml<1,>=0.15->hdmf<3,>=2.5.6->pynwb<2.0.0,>=1.3.2->x-to-nwb) (0.2.6)\n",
            "Collecting keyring>=15.1\n",
            "  Downloading keyring-23.4.0-py3-none-any.whl (33 kB)\n",
            "Requirement already satisfied: tqdm>=4.14 in /usr/local/lib/python3.7/dist-packages (from twine>=3.2.0->x-to-nwb) (4.62.3)\n",
            "Collecting requests-toolbelt!=0.9.0,>=0.8.0\n",
            "  Downloading requests_toolbelt-0.9.1-py2.py3-none-any.whl (54 kB)\n",
            "\u001b[K     |████████████████████████████████| 54 kB 3.6 MB/s \n",
            "\u001b[?25hCollecting readme-renderer>=21.0\n",
            "  Downloading readme_renderer-30.0-py2.py3-none-any.whl (15 kB)\n",
            "Requirement already satisfied: requests>=2.20 in /usr/local/lib/python3.7/dist-packages (from twine>=3.2.0->x-to-nwb) (2.23.0)\n",
            "Collecting colorama>=0.4.3\n",
            "  Downloading colorama-0.4.4-py2.py3-none-any.whl (16 kB)\n",
            "Collecting rfc3986>=1.4.0\n",
            "  Downloading rfc3986-1.5.0-py2.py3-none-any.whl (31 kB)\n",
            "Collecting pkginfo>=1.8.1\n",
            "  Downloading pkginfo-1.8.2-py2.py3-none-any.whl (26 kB)\n",
            "Collecting SecretStorage>=3.2\n",
            "  Downloading SecretStorage-3.3.1-py3-none-any.whl (15 kB)\n",
            "Collecting jeepney>=0.4.2\n",
            "  Downloading jeepney-0.7.1-py3-none-any.whl (54 kB)\n",
            "\u001b[K     |████████████████████████████████| 54 kB 3.5 MB/s \n",
            "\u001b[?25hRequirement already satisfied: bleach>=2.1.0 in /usr/local/lib/python3.7/dist-packages (from readme-renderer>=21.0->twine>=3.2.0->x-to-nwb) (4.1.0)\n",
            "Requirement already satisfied: Pygments>=2.5.1 in /usr/local/lib/python3.7/dist-packages (from readme-renderer>=21.0->twine>=3.2.0->x-to-nwb) (2.6.1)\n",
            "Requirement already satisfied: docutils>=0.13.1 in /usr/local/lib/python3.7/dist-packages (from readme-renderer>=21.0->twine>=3.2.0->x-to-nwb) (0.17.1)\n",
            "Requirement already satisfied: webencodings in /usr/local/lib/python3.7/dist-packages (from bleach>=2.1.0->readme-renderer>=21.0->twine>=3.2.0->x-to-nwb) (0.5.1)\n",
            "Requirement already satisfied: chardet<4,>=3.0.2 in /usr/local/lib/python3.7/dist-packages (from requests>=2.20->twine>=3.2.0->x-to-nwb) (3.0.4)\n",
            "Requirement already satisfied: certifi>=2017.4.17 in /usr/local/lib/python3.7/dist-packages (from requests>=2.20->twine>=3.2.0->x-to-nwb) (2021.10.8)\n",
            "Requirement already satisfied: urllib3!=1.25.0,!=1.25.1,<1.26,>=1.21.1 in /usr/local/lib/python3.7/dist-packages (from requests>=2.20->twine>=3.2.0->x-to-nwb) (1.24.3)\n",
            "Requirement already satisfied: idna<3,>=2.5 in /usr/local/lib/python3.7/dist-packages (from requests>=2.20->twine>=3.2.0->x-to-nwb) (2.10)\n",
            "Collecting cryptography>=2.0\n",
            "  Downloading cryptography-36.0.0-cp36-abi3-manylinux_2_24_x86_64.whl (3.6 MB)\n",
            "\u001b[K     |████████████████████████████████| 3.6 MB 54.4 MB/s \n",
            "\u001b[?25hRequirement already satisfied: cffi>=1.12 in /usr/local/lib/python3.7/dist-packages (from cryptography>=2.0->SecretStorage>=3.2->keyring>=15.1->twine>=3.2.0->x-to-nwb) (1.15.0)\n",
            "Requirement already satisfied: pycparser in /usr/local/lib/python3.7/dist-packages (from cffi>=1.12->cryptography>=2.0->SecretStorage>=3.2->keyring>=15.1->twine>=3.2.0->x-to-nwb) (2.21)\n",
            "Building wheels for collected packages: pyabf\n",
            "  Building wheel for pyabf (setup.py) ... \u001b[?25l\u001b[?25hdone\n",
            "  Created wheel for pyabf: filename=pyabf-2.3.5-py3-none-any.whl size=53587 sha256=d80450e70d3611470f62535a7a95bc076e82da37754700691a54bd5ab40a3cb6\n",
            "  Stored in directory: /root/.cache/pip/wheels/a0/a2/3b/8f6357569a8ff7f6630af13c4c5ed20eda150eb7d5f26bca37\n",
            "Successfully built pyabf\n",
            "Installing collected packages: importlib-metadata, pluggy, jeepney, cryptography, SecretStorage, pytest, h5py, typed-ast, rfc3986, requests-toolbelt, regex, readme-renderer, pytest-forked, pyflakes, pycodestyle, platformdirs, pkginfo, pathspec, mypy-extensions, mccabe, keyring, hdmf, execnet, colorama, versioneer, twine, pytest-xdist, pynwb, pyabf, flake8, black, x-to-nwb\n",
            "  Attempting uninstall: importlib-metadata\n",
            "    Found existing installation: importlib-metadata 4.8.2\n",
            "    Uninstalling importlib-metadata-4.8.2:\n",
            "      Successfully uninstalled importlib-metadata-4.8.2\n",
            "  Attempting uninstall: pluggy\n",
            "    Found existing installation: pluggy 0.7.1\n",
            "    Uninstalling pluggy-0.7.1:\n",
            "      Successfully uninstalled pluggy-0.7.1\n",
            "  Attempting uninstall: pytest\n",
            "    Found existing installation: pytest 3.6.4\n",
            "    Uninstalling pytest-3.6.4:\n",
            "      Successfully uninstalled pytest-3.6.4\n",
            "  Attempting uninstall: h5py\n",
            "    Found existing installation: h5py 3.1.0\n",
            "    Uninstalling h5py-3.1.0:\n",
            "      Successfully uninstalled h5py-3.1.0\n",
            "  Attempting uninstall: regex\n",
            "    Found existing installation: regex 2019.12.20\n",
            "    Uninstalling regex-2019.12.20:\n",
            "      Successfully uninstalled regex-2019.12.20\n",
            "  Attempting uninstall: hdmf\n",
            "    Found existing installation: hdmf 3.1.1\n",
            "    Uninstalling hdmf-3.1.1:\n",
            "      Successfully uninstalled hdmf-3.1.1\n",
            "  Attempting uninstall: pynwb\n",
            "    Found existing installation: pynwb 2.0.0\n",
            "    Uninstalling pynwb-2.0.0:\n",
            "      Successfully uninstalled pynwb-2.0.0\n",
            "\u001b[31mERROR: pip's dependency resolver does not currently take into account all the packages that are installed. This behaviour is the source of the following dependency conflicts.\n",
            "markdown 3.3.6 requires importlib-metadata>=4.4; python_version < \"3.10\", but you have importlib-metadata 4.2.0 which is incompatible.\n",
            "datascience 0.10.6 requires folium==0.2.1, but you have folium 0.8.3 which is incompatible.\u001b[0m\n",
            "Successfully installed SecretStorage-3.3.1 black-21.11b1 colorama-0.4.4 cryptography-36.0.0 execnet-1.9.0 flake8-4.0.1 h5py-2.10.0 hdmf-2.5.8 importlib-metadata-4.2.0 jeepney-0.7.1 keyring-23.4.0 mccabe-0.6.1 mypy-extensions-0.4.3 pathspec-0.9.0 pkginfo-1.8.2 platformdirs-2.4.0 pluggy-1.0.0 pyabf-2.3.5 pycodestyle-2.8.0 pyflakes-2.4.0 pynwb-1.5.1 pytest-6.2.5 pytest-forked-1.3.0 pytest-xdist-2.4.0 readme-renderer-30.0 regex-2021.11.10 requests-toolbelt-0.9.1 rfc3986-1.5.0 twine-3.7.0 typed-ast-1.5.1 versioneer-0.21 x-to-nwb-0.2.2\n"
          ]
        }
      ]
    },
    {
      "cell_type": "code",
      "metadata": {
        "id": "b_w_MsU8wb7H",
        "colab": {
          "base_uri": "https://localhost:8080/"
        },
        "outputId": "cea07c6c-6142-44e8-b3f5-ae81d8d7be25"
      },
      "source": [
        "# import modules\n",
        "import numpy as np\n",
        "import os\n",
        "import pandas as pd\n",
        "import pynwb\n",
        "import roman\n",
        "import sys\n",
        "import uuid\n",
        "\n",
        "from datetime import datetime\n",
        "from dateutil.tz import tzlocal\n",
        "from pynwb import NWBHDF5IO, NWBFile\n",
        "from pynwb.file import Subject\n",
        "\n",
        "## add path to parent directory to import conversion module\n",
        "sys.path.append('..') \n",
        "!pip install x-to-nwb==0.2.2\n",
        "from x_to_nwb import convert\n",
        "#from src.x_to_nwb import convert"
      ],
      "execution_count": null,
      "outputs": [
        {
          "output_type": "stream",
          "name": "stdout",
          "text": [
            "Requirement already satisfied: x-to-nwb==0.2.2 in /usr/local/lib/python3.7/dist-packages (0.2.2)\n",
            "Requirement already satisfied: pytest-xdist>=2.1.0 in /usr/local/lib/python3.7/dist-packages (from x-to-nwb==0.2.2) (2.4.0)\n",
            "Requirement already satisfied: black>=20.8b1 in /usr/local/lib/python3.7/dist-packages (from x-to-nwb==0.2.2) (21.11b1)\n",
            "Requirement already satisfied: twine>=3.2.0 in /usr/local/lib/python3.7/dist-packages (from x-to-nwb==0.2.2) (3.7.0)\n",
            "Requirement already satisfied: pytest>=6.1.2 in /usr/local/lib/python3.7/dist-packages (from x-to-nwb==0.2.2) (6.2.5)\n",
            "Requirement already satisfied: versioneer>=0.19 in /usr/local/lib/python3.7/dist-packages (from x-to-nwb==0.2.2) (0.21)\n",
            "Requirement already satisfied: pynwb<2.0.0,>=1.3.2 in /usr/local/lib/python3.7/dist-packages (from x-to-nwb==0.2.2) (1.5.1)\n",
            "Requirement already satisfied: pyabf>=2.2.8 in /usr/local/lib/python3.7/dist-packages (from x-to-nwb==0.2.2) (2.3.5)\n",
            "Requirement already satisfied: flake8>=3.8.4 in /usr/local/lib/python3.7/dist-packages (from x-to-nwb==0.2.2) (4.0.1)\n",
            "Requirement already satisfied: h5py<3,>=2.10.0 in /usr/local/lib/python3.7/dist-packages (from x-to-nwb==0.2.2) (2.10.0)\n",
            "Requirement already satisfied: mypy-extensions>=0.4.3 in /usr/local/lib/python3.7/dist-packages (from black>=20.8b1->x-to-nwb==0.2.2) (0.4.3)\n",
            "Requirement already satisfied: click>=7.1.2 in /usr/local/lib/python3.7/dist-packages (from black>=20.8b1->x-to-nwb==0.2.2) (7.1.2)\n",
            "Requirement already satisfied: platformdirs>=2 in /usr/local/lib/python3.7/dist-packages (from black>=20.8b1->x-to-nwb==0.2.2) (2.4.0)\n",
            "Requirement already satisfied: typed-ast>=1.4.2 in /usr/local/lib/python3.7/dist-packages (from black>=20.8b1->x-to-nwb==0.2.2) (1.5.1)\n",
            "Requirement already satisfied: typing-extensions>=3.10.0.0 in /usr/local/lib/python3.7/dist-packages (from black>=20.8b1->x-to-nwb==0.2.2) (3.10.0.2)\n",
            "Requirement already satisfied: tomli<2.0.0,>=0.2.6 in /usr/local/lib/python3.7/dist-packages (from black>=20.8b1->x-to-nwb==0.2.2) (1.2.2)\n",
            "Requirement already satisfied: regex>=2021.4.4 in /usr/local/lib/python3.7/dist-packages (from black>=20.8b1->x-to-nwb==0.2.2) (2021.11.10)\n",
            "Requirement already satisfied: pathspec<1,>=0.9.0 in /usr/local/lib/python3.7/dist-packages (from black>=20.8b1->x-to-nwb==0.2.2) (0.9.0)\n",
            "Requirement already satisfied: pycodestyle<2.9.0,>=2.8.0 in /usr/local/lib/python3.7/dist-packages (from flake8>=3.8.4->x-to-nwb==0.2.2) (2.8.0)\n",
            "Requirement already satisfied: pyflakes<2.5.0,>=2.4.0 in /usr/local/lib/python3.7/dist-packages (from flake8>=3.8.4->x-to-nwb==0.2.2) (2.4.0)\n",
            "Requirement already satisfied: mccabe<0.7.0,>=0.6.0 in /usr/local/lib/python3.7/dist-packages (from flake8>=3.8.4->x-to-nwb==0.2.2) (0.6.1)\n",
            "Requirement already satisfied: importlib-metadata<4.3 in /usr/local/lib/python3.7/dist-packages (from flake8>=3.8.4->x-to-nwb==0.2.2) (4.2.0)\n",
            "Requirement already satisfied: six in /usr/local/lib/python3.7/dist-packages (from h5py<3,>=2.10.0->x-to-nwb==0.2.2) (1.15.0)\n",
            "Requirement already satisfied: numpy>=1.7 in /usr/local/lib/python3.7/dist-packages (from h5py<3,>=2.10.0->x-to-nwb==0.2.2) (1.19.5)\n",
            "Requirement already satisfied: zipp>=0.5 in /usr/local/lib/python3.7/dist-packages (from importlib-metadata<4.3->flake8>=3.8.4->x-to-nwb==0.2.2) (3.6.0)\n",
            "Requirement already satisfied: matplotlib>=2.1.0 in /usr/local/lib/python3.7/dist-packages (from pyabf>=2.2.8->x-to-nwb==0.2.2) (3.2.2)\n",
            "Requirement already satisfied: cycler>=0.10 in /usr/local/lib/python3.7/dist-packages (from matplotlib>=2.1.0->pyabf>=2.2.8->x-to-nwb==0.2.2) (0.11.0)\n",
            "Requirement already satisfied: python-dateutil>=2.1 in /usr/local/lib/python3.7/dist-packages (from matplotlib>=2.1.0->pyabf>=2.2.8->x-to-nwb==0.2.2) (2.8.2)\n",
            "Requirement already satisfied: pyparsing!=2.0.4,!=2.1.2,!=2.1.6,>=2.0.1 in /usr/local/lib/python3.7/dist-packages (from matplotlib>=2.1.0->pyabf>=2.2.8->x-to-nwb==0.2.2) (3.0.6)\n",
            "Requirement already satisfied: kiwisolver>=1.0.1 in /usr/local/lib/python3.7/dist-packages (from matplotlib>=2.1.0->pyabf>=2.2.8->x-to-nwb==0.2.2) (1.3.2)\n",
            "Requirement already satisfied: hdmf<3,>=2.5.6 in /usr/local/lib/python3.7/dist-packages (from pynwb<2.0.0,>=1.3.2->x-to-nwb==0.2.2) (2.5.8)\n",
            "Requirement already satisfied: pandas<2,>=1.0.5 in /usr/local/lib/python3.7/dist-packages (from pynwb<2.0.0,>=1.3.2->x-to-nwb==0.2.2) (1.1.5)\n",
            "Requirement already satisfied: setuptools in /usr/local/lib/python3.7/dist-packages (from pynwb<2.0.0,>=1.3.2->x-to-nwb==0.2.2) (57.4.0)\n",
            "Requirement already satisfied: scipy<2,>=1.1 in /usr/local/lib/python3.7/dist-packages (from hdmf<3,>=2.5.6->pynwb<2.0.0,>=1.3.2->x-to-nwb==0.2.2) (1.4.1)\n",
            "Requirement already satisfied: jsonschema<4,>=2.6.0 in /usr/local/lib/python3.7/dist-packages (from hdmf<3,>=2.5.6->pynwb<2.0.0,>=1.3.2->x-to-nwb==0.2.2) (2.6.0)\n",
            "Requirement already satisfied: ruamel.yaml<1,>=0.15 in /usr/local/lib/python3.7/dist-packages (from hdmf<3,>=2.5.6->pynwb<2.0.0,>=1.3.2->x-to-nwb==0.2.2) (0.17.17)\n",
            "Requirement already satisfied: pytz>=2017.2 in /usr/local/lib/python3.7/dist-packages (from pandas<2,>=1.0.5->pynwb<2.0.0,>=1.3.2->x-to-nwb==0.2.2) (2018.9)\n",
            "Requirement already satisfied: packaging in /usr/local/lib/python3.7/dist-packages (from pytest>=6.1.2->x-to-nwb==0.2.2) (21.3)\n",
            "Requirement already satisfied: attrs>=19.2.0 in /usr/local/lib/python3.7/dist-packages (from pytest>=6.1.2->x-to-nwb==0.2.2) (21.2.0)\n",
            "Requirement already satisfied: iniconfig in /usr/local/lib/python3.7/dist-packages (from pytest>=6.1.2->x-to-nwb==0.2.2) (1.1.1)\n",
            "Requirement already satisfied: py>=1.8.2 in /usr/local/lib/python3.7/dist-packages (from pytest>=6.1.2->x-to-nwb==0.2.2) (1.11.0)\n",
            "Requirement already satisfied: pluggy<2.0,>=0.12 in /usr/local/lib/python3.7/dist-packages (from pytest>=6.1.2->x-to-nwb==0.2.2) (1.0.0)\n",
            "Requirement already satisfied: toml in /usr/local/lib/python3.7/dist-packages (from pytest>=6.1.2->x-to-nwb==0.2.2) (0.10.2)\n",
            "Requirement already satisfied: pytest-forked in /usr/local/lib/python3.7/dist-packages (from pytest-xdist>=2.1.0->x-to-nwb==0.2.2) (1.3.0)\n",
            "Requirement already satisfied: execnet>=1.1 in /usr/local/lib/python3.7/dist-packages (from pytest-xdist>=2.1.0->x-to-nwb==0.2.2) (1.9.0)\n",
            "Requirement already satisfied: ruamel.yaml.clib>=0.1.2 in /usr/local/lib/python3.7/dist-packages (from ruamel.yaml<1,>=0.15->hdmf<3,>=2.5.6->pynwb<2.0.0,>=1.3.2->x-to-nwb==0.2.2) (0.2.6)\n",
            "Requirement already satisfied: readme-renderer>=21.0 in /usr/local/lib/python3.7/dist-packages (from twine>=3.2.0->x-to-nwb==0.2.2) (30.0)\n",
            "Requirement already satisfied: requests-toolbelt!=0.9.0,>=0.8.0 in /usr/local/lib/python3.7/dist-packages (from twine>=3.2.0->x-to-nwb==0.2.2) (0.9.1)\n",
            "Requirement already satisfied: rfc3986>=1.4.0 in /usr/local/lib/python3.7/dist-packages (from twine>=3.2.0->x-to-nwb==0.2.2) (1.5.0)\n",
            "Requirement already satisfied: requests>=2.20 in /usr/local/lib/python3.7/dist-packages (from twine>=3.2.0->x-to-nwb==0.2.2) (2.23.0)\n",
            "Requirement already satisfied: pkginfo>=1.8.1 in /usr/local/lib/python3.7/dist-packages (from twine>=3.2.0->x-to-nwb==0.2.2) (1.8.2)\n",
            "Requirement already satisfied: keyring>=15.1 in /usr/local/lib/python3.7/dist-packages (from twine>=3.2.0->x-to-nwb==0.2.2) (23.4.0)\n",
            "Requirement already satisfied: colorama>=0.4.3 in /usr/local/lib/python3.7/dist-packages (from twine>=3.2.0->x-to-nwb==0.2.2) (0.4.4)\n",
            "Requirement already satisfied: tqdm>=4.14 in /usr/local/lib/python3.7/dist-packages (from twine>=3.2.0->x-to-nwb==0.2.2) (4.62.3)\n",
            "Requirement already satisfied: SecretStorage>=3.2 in /usr/local/lib/python3.7/dist-packages (from keyring>=15.1->twine>=3.2.0->x-to-nwb==0.2.2) (3.3.1)\n",
            "Requirement already satisfied: jeepney>=0.4.2 in /usr/local/lib/python3.7/dist-packages (from keyring>=15.1->twine>=3.2.0->x-to-nwb==0.2.2) (0.7.1)\n",
            "Requirement already satisfied: Pygments>=2.5.1 in /usr/local/lib/python3.7/dist-packages (from readme-renderer>=21.0->twine>=3.2.0->x-to-nwb==0.2.2) (2.6.1)\n",
            "Requirement already satisfied: docutils>=0.13.1 in /usr/local/lib/python3.7/dist-packages (from readme-renderer>=21.0->twine>=3.2.0->x-to-nwb==0.2.2) (0.17.1)\n",
            "Requirement already satisfied: bleach>=2.1.0 in /usr/local/lib/python3.7/dist-packages (from readme-renderer>=21.0->twine>=3.2.0->x-to-nwb==0.2.2) (4.1.0)\n",
            "Requirement already satisfied: webencodings in /usr/local/lib/python3.7/dist-packages (from bleach>=2.1.0->readme-renderer>=21.0->twine>=3.2.0->x-to-nwb==0.2.2) (0.5.1)\n",
            "Requirement already satisfied: chardet<4,>=3.0.2 in /usr/local/lib/python3.7/dist-packages (from requests>=2.20->twine>=3.2.0->x-to-nwb==0.2.2) (3.0.4)\n",
            "Requirement already satisfied: idna<3,>=2.5 in /usr/local/lib/python3.7/dist-packages (from requests>=2.20->twine>=3.2.0->x-to-nwb==0.2.2) (2.10)\n",
            "Requirement already satisfied: certifi>=2017.4.17 in /usr/local/lib/python3.7/dist-packages (from requests>=2.20->twine>=3.2.0->x-to-nwb==0.2.2) (2021.10.8)\n",
            "Requirement already satisfied: urllib3!=1.25.0,!=1.25.1,<1.26,>=1.21.1 in /usr/local/lib/python3.7/dist-packages (from requests>=2.20->twine>=3.2.0->x-to-nwb==0.2.2) (1.24.3)\n",
            "Requirement already satisfied: cryptography>=2.0 in /usr/local/lib/python3.7/dist-packages (from SecretStorage>=3.2->keyring>=15.1->twine>=3.2.0->x-to-nwb==0.2.2) (36.0.0)\n",
            "Requirement already satisfied: cffi>=1.12 in /usr/local/lib/python3.7/dist-packages (from cryptography>=2.0->SecretStorage>=3.2->keyring>=15.1->twine>=3.2.0->x-to-nwb==0.2.2) (1.15.0)\n",
            "Requirement already satisfied: pycparser in /usr/local/lib/python3.7/dist-packages (from cffi>=1.12->cryptography>=2.0->SecretStorage>=3.2->keyring>=15.1->twine>=3.2.0->x-to-nwb==0.2.2) (2.21)\n"
          ]
        }
      ]
    },
    {
      "cell_type": "code",
      "metadata": {
        "id": "yUGs27zHwb7K"
      },
      "source": [
        "# set files to look at for testing\n",
        "cell_id = 'ASH189' # neuron type + recording number, should be a unique identifier within this dataset\n",
        "\n",
        "# TO DO - eventually want to be able to loop through all the cells in the metadata spreadsheet"
      ],
      "execution_count": null,
      "outputs": []
    },
    {
      "cell_type": "markdown",
      "metadata": {
        "id": "RO5xirqMwb7L"
      },
      "source": [
        "### Define functions"
      ]
    },
    {
      "cell_type": "code",
      "metadata": {
        "id": "ByTZbf0hwb7L"
      },
      "source": [
        "def import_recording_metadata(fname, cell_id, start_row):\n",
        "    '''\n",
        "    import_metadata: gets all the metadata from a specific recording with the input cell id \n",
        "    '''\n",
        "    #import excel file\n",
        "    df = pd.read_excel(fname_metadata, skiprows = range(start_row), header=[0,1], sheet_name='Recordings-MetaData')\n",
        "\n",
        "    #clean up the column names\n",
        "    colname_top = df.columns.get_level_values(level=0).str.replace('Unnamed.*','',regex=True)\n",
        "    colname_bottom = df.columns.get_level_values(level=1).str.replace('Unnamed.*','',regex=True)\n",
        "    df.columns = [colname_top, colname_bottom]\n",
        "    df.columns = df.columns.map(''.join)\n",
        "    \n",
        "    #select the row containing the relevant experiment info\n",
        "    exp_info = df.loc[df['Cell ID'] == cell_id]\n",
        "\n",
        "    return exp_info"
      ],
      "execution_count": null,
      "outputs": []
    },
    {
      "cell_type": "code",
      "metadata": {
        "id": "8eKF9cK4wb7N"
      },
      "source": [
        "def import_subject_metadata(fname, exp_info):\n",
        "    '''\n",
        "    import_subject_metadata: gets subject info like genotype, worm dimensions, id\n",
        "    and exports as dict for input into the nwb file\n",
        "    '''\n",
        "    #get cell id\n",
        "    cell_id = exp_info['Cell ID'].values[0]\n",
        "    cell_type = exp_info['Cell'].values[0]\n",
        "    \n",
        "    #get genotype using strain ID\n",
        "    strain = exp_info['Strain'].values[0]\n",
        "    df = pd.read_excel(fname, sheet_name='StrainsdB')\n",
        "    genotype = df['Genotype'][df['Strain'] == strain].values[0]\n",
        "    \n",
        "    #get worm dimensions\n",
        "    vals = exp_info.filter(like='µm').values[0]\n",
        "    keys = ['length (µm)','width (µm)','area (µm)']\n",
        "    dims = dict(zip(keys,vals))\n",
        "        \n",
        "    #compile description\n",
        "    descript = {**{'cell type': cell_type}, **dims}\n",
        "    nan_vals = ['no data','nd']\n",
        "    for k in descript:\n",
        "        if descript[k] in nan_vals:\n",
        "            descript[k] = 'nan'\n",
        "\n",
        "    subject_metadata = {'subject_id': cell_id, 'description': str(descript), 'genotype': genotype}\n",
        "    \n",
        "    return subject_metadata"
      ],
      "execution_count": null,
      "outputs": []
    },
    {
      "cell_type": "code",
      "metadata": {
        "id": "x2LxYxz3wb7P"
      },
      "source": [
        "def get_ingredients(fname, rec_data, sheet_name, col_name):\n",
        "    #import values for experiment\n",
        "    df = pd.read_excel(fname, header=[0,1], sheet_name=sheet_name)\n",
        "    solution = rec_data[col_name].values[0]\n",
        "\n",
        "    #get ingredients list for each solution\n",
        "    if solution == 'np':\n",
        "        ingredients = 'no fast perfusion, gravity fed'\n",
        "    elif solution not in df:\n",
        "        ingredients = solution\n",
        "    else:\n",
        "        ingredients = dict(zip(df[solution]['Ingredients'], df[solution]['Molarity']))\n",
        "\n",
        "    #output result\n",
        "    return ingredients"
      ],
      "execution_count": null,
      "outputs": []
    },
    {
      "cell_type": "code",
      "metadata": {
        "id": "xFRoH30dwb7R"
      },
      "source": [
        "def import_solution_metadata(fname, rec_data):\n",
        "    sol_int = get_ingredients(fname, rec_data, 'I-SolutionsdB', 'I-soln')\n",
        "    sol_ext_ctl = get_ingredients(fname, rec_data, 'E-SolutionsdB', 'E-soln-ctl')\n",
        "    sol_ext_exp = get_ingredients(fname, rec_data, 'E-SolutionsdB', 'E-soln-exp')\n",
        "    \n",
        "    solution_metadata = {'Internal solution': sol_int, \n",
        "                         'External solution - control': sol_ext_ctl,\n",
        "                         'External solution - experimental': sol_ext_exp}\n",
        "    \n",
        "    return solution_metadata"
      ],
      "execution_count": null,
      "outputs": []
    },
    {
      "cell_type": "code",
      "metadata": {
        "id": "0cKBLnJnwb7S"
      },
      "source": [
        "def get_dat_filename(date_raw):\n",
        "    '''\n",
        "    get_dat_filename: converts string in dd-mm-yy format with the month stored\n",
        "    as roman numerals into yy_mm_dd format with all integer values \n",
        "    '''    \n",
        "    # convert roman numerals to string\n",
        "    date_split = date_raw.split('-') \n",
        "    date_split[1] = str(roman.fromRoman(date_split[1]))\n",
        "    \n",
        "    #convert to be yy-mm-dd format for .dat files\n",
        "    date = datetime.strptime(' '.join(date_split), \"%d %m %y\").strftime(\"%y-%m-%d\")\n",
        "    \n",
        "    return date"
      ],
      "execution_count": null,
      "outputs": []
    },
    {
      "cell_type": "markdown",
      "metadata": {
        "id": "pohEq29Bwb7T"
      },
      "source": [
        "### Compile metadata"
      ]
    },
    {
      "cell_type": "code",
      "metadata": {
        "id": "USEvaqkmwb7U"
      },
      "source": [
        "# load the metadata spreadsheet\n",
        "fname_metadata = \"/content/sample_data/ASH-metadata_12_III_29.xls\"\n",
        "rec_data = import_recording_metadata(fname_metadata, cell_id, start_row=13)\n",
        "\n",
        "# get metadata details\n",
        "subj_data = import_subject_metadata(fname_metadata, rec_data)\n",
        "sol_data = import_solution_metadata(fname_metadata, rec_data)\n",
        "\n",
        "# save all metadata fields\n",
        "all_metadata = {'species': 'C. elegans',\n",
        "                'genotype': subj_data['genotype'],\n",
        "                'subject_id': subj_data['subject_id'],\n",
        "                'subject_description': subj_data['description'],\n",
        "                'experiment_description':'intracellular whole-cell patch clamp recordings in ASH neurons of C. elegans',\n",
        "                'session_description': 'PLACEHOLDER',\n",
        "                'lab': 'Goodman Lab',\n",
        "                'institution': 'Stanford University',\n",
        "                'protocol': 'similar to Goodman et al, 1998 Neuron, doi: 10.1016/s0896-6273(00)81014-4', # TO DO - include more details?\n",
        "                'related_publications': 'Geffeney et al, Neuron 2011, doi: 10.1016/j.neuron.2011.06.038'\n",
        "               }\n",
        "\n",
        "# TO DO - add electrode details?\n",
        "# TO DO - add field for mechanical stimuluation for relevant files?\n",
        "# TO DO - add more details to protocol? or to stimulus traces?\n",
        "    # start with ct-ivq 'on cell'\n",
        "    # followed by ct-ivq 'whole cell'\n",
        "    # average traces from first IVq subtracted from averaged traces of second IVq to remove capacitance artifacts\n",
        "    # ct protocol (capacity transient) is a series of +10 mV and -10 mV voltage pulses to measure capacitance and to estimate series resistance."
      ],
      "execution_count": null,
      "outputs": []
    },
    {
      "cell_type": "code",
      "metadata": {
        "colab": {
          "base_uri": "https://localhost:8080/"
        },
        "id": "nZPG85LE88Qg",
        "outputId": "305260ec-85e2-4335-d00f-aa6b8ceac3c5"
      },
      "source": [
        "from google.colab import drive\n",
        "drive.mount('/content/drive')"
      ],
      "execution_count": null,
      "outputs": [
        {
          "output_type": "stream",
          "name": "stdout",
          "text": [
            "Mounted at /content/drive\n"
          ]
        }
      ]
    },
    {
      "cell_type": "markdown",
      "metadata": {
        "id": "1wg3HQFJwb7V"
      },
      "source": [
        "### Generate nwb file"
      ]
    },
    {
      "cell_type": "code",
      "metadata": {
        "pycharm": {
          "name": "#%%\n"
        },
        "id": "RXcQNyuxwb7W",
        "colab": {
          "base_uri": "https://localhost:8080/",
          "height": 234
        },
        "outputId": "5fb3b920-7fdd-4b7e-e45d-1fa1384b774a"
      },
      "source": [
        "# get file name of raw data\n",
        "rec_date = get_dat_filename(rec_data['Recording Date'].values[0])\n",
        "\n",
        "# check that file exists\n",
        "fname_dat = f\"..//test_data//{rec_date}.dat\"\n",
        "if not os.path.isfile(fname_dat):\n",
        "    rec_date = rec_date.replace('-','_')\n",
        "    fname_dat = f\"..//test_data//{rec_date}.dat\"\n",
        "\n",
        "if not os.path.isfile(fname_dat):\n",
        "    raise ValueError(f\"The file {fname_dat }does not exist\")\n",
        "\n",
        "# run converter - TO DO\n",
        "convert(fname_dat, overwrite=True, existingNWBData=all_metadata)"
      ],
      "execution_count": null,
      "outputs": [
        {
          "output_type": "error",
          "ename": "ValueError",
          "evalue": "ignored",
          "traceback": [
            "\u001b[0;31m---------------------------------------------------------------------------\u001b[0m",
            "\u001b[0;31mValueError\u001b[0m                                Traceback (most recent call last)",
            "\u001b[0;32m<ipython-input-20-aa863ce0fbee>\u001b[0m in \u001b[0;36m<module>\u001b[0;34m()\u001b[0m\n\u001b[1;32m      9\u001b[0m \u001b[0;34m\u001b[0m\u001b[0m\n\u001b[1;32m     10\u001b[0m \u001b[0;32mif\u001b[0m \u001b[0;32mnot\u001b[0m \u001b[0mos\u001b[0m\u001b[0;34m.\u001b[0m\u001b[0mpath\u001b[0m\u001b[0;34m.\u001b[0m\u001b[0misfile\u001b[0m\u001b[0;34m(\u001b[0m\u001b[0mfname_dat\u001b[0m\u001b[0;34m)\u001b[0m\u001b[0;34m:\u001b[0m\u001b[0;34m\u001b[0m\u001b[0;34m\u001b[0m\u001b[0m\n\u001b[0;32m---> 11\u001b[0;31m     \u001b[0;32mraise\u001b[0m \u001b[0mValueError\u001b[0m\u001b[0;34m(\u001b[0m\u001b[0;34mf\"The file {fname_dat }does not exist\"\u001b[0m\u001b[0;34m)\u001b[0m\u001b[0;34m\u001b[0m\u001b[0;34m\u001b[0m\u001b[0m\n\u001b[0m\u001b[1;32m     12\u001b[0m \u001b[0;34m\u001b[0m\u001b[0m\n\u001b[1;32m     13\u001b[0m \u001b[0;31m# run converter - TO DO\u001b[0m\u001b[0;34m\u001b[0m\u001b[0;34m\u001b[0m\u001b[0;34m\u001b[0m\u001b[0m\n",
            "\u001b[0;31mValueError\u001b[0m: The file ..//test_data//08_10_30.datdoes not exist"
          ]
        }
      ]
    },
    {
      "cell_type": "markdown",
      "metadata": {
        "id": "GljgQBOJwb7X"
      },
      "source": [
        "### Inspect the final nwb file"
      ]
    },
    {
      "cell_type": "code",
      "metadata": {
        "id": "sVg0ittvwb7Y",
        "colab": {
          "base_uri": "https://localhost:8080/",
          "height": 502
        },
        "outputId": "66a9d93d-ff1e-4286-fcbb-fdb8e1f5b6b1"
      },
      "source": [
        "# load the existing nwb files\n",
        "from datetime import datetime\n",
        "from dateutil.tz import tzlocal\n",
        "from pynwb import NWBFile\n",
        "import numpy as np\n",
        "fname_nwb = f\"content/sample_data/08-10-30-1(1).nwb\"\n",
        "io = NWBHDF5IO(fname_nwb, 'x')\n",
        "nwbfile = io.read()\n",
        "print(nwbfile)"
      ],
      "execution_count": null,
      "outputs": [
        {
          "output_type": "error",
          "ename": "OSError",
          "evalue": "ignored",
          "traceback": [
            "\u001b[0;31m---------------------------------------------------------------------------\u001b[0m",
            "\u001b[0;31mOSError\u001b[0m                                   Traceback (most recent call last)",
            "\u001b[0;32m<ipython-input-26-7053c3dbbfa2>\u001b[0m in \u001b[0;36m<module>\u001b[0;34m()\u001b[0m\n\u001b[1;32m      5\u001b[0m \u001b[0;32mimport\u001b[0m \u001b[0mnumpy\u001b[0m \u001b[0;32mas\u001b[0m \u001b[0mnp\u001b[0m\u001b[0;34m\u001b[0m\u001b[0;34m\u001b[0m\u001b[0m\n\u001b[1;32m      6\u001b[0m \u001b[0mfname_nwb\u001b[0m \u001b[0;34m=\u001b[0m \u001b[0;34mf\"content/sample_data/08-10-30-1(1).nwb\"\u001b[0m\u001b[0;34m\u001b[0m\u001b[0;34m\u001b[0m\u001b[0m\n\u001b[0;32m----> 7\u001b[0;31m \u001b[0mio\u001b[0m \u001b[0;34m=\u001b[0m \u001b[0mNWBHDF5IO\u001b[0m\u001b[0;34m(\u001b[0m\u001b[0mfname_nwb\u001b[0m\u001b[0;34m,\u001b[0m \u001b[0;34m'x'\u001b[0m\u001b[0;34m)\u001b[0m\u001b[0;34m\u001b[0m\u001b[0;34m\u001b[0m\u001b[0m\n\u001b[0m\u001b[1;32m      8\u001b[0m \u001b[0mnwbfile\u001b[0m \u001b[0;34m=\u001b[0m \u001b[0mio\u001b[0m\u001b[0;34m.\u001b[0m\u001b[0mread\u001b[0m\u001b[0;34m(\u001b[0m\u001b[0;34m)\u001b[0m\u001b[0;34m\u001b[0m\u001b[0;34m\u001b[0m\u001b[0m\n\u001b[1;32m      9\u001b[0m \u001b[0mprint\u001b[0m\u001b[0;34m(\u001b[0m\u001b[0mnwbfile\u001b[0m\u001b[0;34m)\u001b[0m\u001b[0;34m\u001b[0m\u001b[0;34m\u001b[0m\u001b[0m\n",
            "\u001b[0;32m/usr/local/lib/python3.7/dist-packages/hdmf/utils.py\u001b[0m in \u001b[0;36mfunc_call\u001b[0;34m(*args, **kwargs)\u001b[0m\n\u001b[1;32m    578\u001b[0m             \u001b[0;32mdef\u001b[0m \u001b[0mfunc_call\u001b[0m\u001b[0;34m(\u001b[0m\u001b[0;34m*\u001b[0m\u001b[0margs\u001b[0m\u001b[0;34m,\u001b[0m \u001b[0;34m**\u001b[0m\u001b[0mkwargs\u001b[0m\u001b[0;34m)\u001b[0m\u001b[0;34m:\u001b[0m\u001b[0;34m\u001b[0m\u001b[0;34m\u001b[0m\u001b[0m\n\u001b[1;32m    579\u001b[0m                 \u001b[0mpargs\u001b[0m \u001b[0;34m=\u001b[0m \u001b[0m_check_args\u001b[0m\u001b[0;34m(\u001b[0m\u001b[0margs\u001b[0m\u001b[0;34m,\u001b[0m \u001b[0mkwargs\u001b[0m\u001b[0;34m)\u001b[0m\u001b[0;34m\u001b[0m\u001b[0;34m\u001b[0m\u001b[0m\n\u001b[0;32m--> 580\u001b[0;31m                 \u001b[0;32mreturn\u001b[0m \u001b[0mfunc\u001b[0m\u001b[0;34m(\u001b[0m\u001b[0margs\u001b[0m\u001b[0;34m[\u001b[0m\u001b[0;36m0\u001b[0m\u001b[0;34m]\u001b[0m\u001b[0;34m,\u001b[0m \u001b[0;34m**\u001b[0m\u001b[0mpargs\u001b[0m\u001b[0;34m)\u001b[0m\u001b[0;34m\u001b[0m\u001b[0;34m\u001b[0m\u001b[0m\n\u001b[0m\u001b[1;32m    581\u001b[0m         \u001b[0;32melse\u001b[0m\u001b[0;34m:\u001b[0m\u001b[0;34m\u001b[0m\u001b[0;34m\u001b[0m\u001b[0m\n\u001b[1;32m    582\u001b[0m             \u001b[0;32mdef\u001b[0m \u001b[0mfunc_call\u001b[0m\u001b[0;34m(\u001b[0m\u001b[0;34m*\u001b[0m\u001b[0margs\u001b[0m\u001b[0;34m,\u001b[0m \u001b[0;34m**\u001b[0m\u001b[0mkwargs\u001b[0m\u001b[0;34m)\u001b[0m\u001b[0;34m:\u001b[0m\u001b[0;34m\u001b[0m\u001b[0;34m\u001b[0m\u001b[0m\n",
            "\u001b[0;32m/usr/local/lib/python3.7/dist-packages/pynwb/__init__.py\u001b[0m in \u001b[0;36m__init__\u001b[0;34m(self, **kwargs)\u001b[0m\n\u001b[1;32m    244\u001b[0m             \u001b[0;32melif\u001b[0m \u001b[0mmanager\u001b[0m \u001b[0;32mis\u001b[0m \u001b[0;32mNone\u001b[0m\u001b[0;34m:\u001b[0m\u001b[0;34m\u001b[0m\u001b[0;34m\u001b[0m\u001b[0m\n\u001b[1;32m    245\u001b[0m                 \u001b[0mmanager\u001b[0m \u001b[0;34m=\u001b[0m \u001b[0mget_manager\u001b[0m\u001b[0;34m(\u001b[0m\u001b[0;34m)\u001b[0m\u001b[0;34m\u001b[0m\u001b[0;34m\u001b[0m\u001b[0m\n\u001b[0;32m--> 246\u001b[0;31m         \u001b[0msuper\u001b[0m\u001b[0;34m(\u001b[0m\u001b[0mNWBHDF5IO\u001b[0m\u001b[0;34m,\u001b[0m \u001b[0mself\u001b[0m\u001b[0;34m)\u001b[0m\u001b[0;34m.\u001b[0m\u001b[0m__init__\u001b[0m\u001b[0;34m(\u001b[0m\u001b[0mpath\u001b[0m\u001b[0;34m,\u001b[0m \u001b[0mmanager\u001b[0m\u001b[0;34m=\u001b[0m\u001b[0mmanager\u001b[0m\u001b[0;34m,\u001b[0m \u001b[0mmode\u001b[0m\u001b[0;34m=\u001b[0m\u001b[0mmode\u001b[0m\u001b[0;34m,\u001b[0m \u001b[0mfile\u001b[0m\u001b[0;34m=\u001b[0m\u001b[0mfile_obj\u001b[0m\u001b[0;34m,\u001b[0m \u001b[0mcomm\u001b[0m\u001b[0;34m=\u001b[0m\u001b[0mcomm\u001b[0m\u001b[0;34m,\u001b[0m \u001b[0mdriver\u001b[0m\u001b[0;34m=\u001b[0m\u001b[0mdriver\u001b[0m\u001b[0;34m)\u001b[0m\u001b[0;34m\u001b[0m\u001b[0;34m\u001b[0m\u001b[0m\n\u001b[0m\u001b[1;32m    247\u001b[0m \u001b[0;34m\u001b[0m\u001b[0m\n\u001b[1;32m    248\u001b[0m     @docval({'name': 'src_io', 'type': HDMFIO, 'doc': 'the HDMFIO object for reading the data to export'},\n",
            "\u001b[0;32m/usr/local/lib/python3.7/dist-packages/hdmf/utils.py\u001b[0m in \u001b[0;36mfunc_call\u001b[0;34m(*args, **kwargs)\u001b[0m\n\u001b[1;32m    578\u001b[0m             \u001b[0;32mdef\u001b[0m \u001b[0mfunc_call\u001b[0m\u001b[0;34m(\u001b[0m\u001b[0;34m*\u001b[0m\u001b[0margs\u001b[0m\u001b[0;34m,\u001b[0m \u001b[0;34m**\u001b[0m\u001b[0mkwargs\u001b[0m\u001b[0;34m)\u001b[0m\u001b[0;34m:\u001b[0m\u001b[0;34m\u001b[0m\u001b[0;34m\u001b[0m\u001b[0m\n\u001b[1;32m    579\u001b[0m                 \u001b[0mpargs\u001b[0m \u001b[0;34m=\u001b[0m \u001b[0m_check_args\u001b[0m\u001b[0;34m(\u001b[0m\u001b[0margs\u001b[0m\u001b[0;34m,\u001b[0m \u001b[0mkwargs\u001b[0m\u001b[0;34m)\u001b[0m\u001b[0;34m\u001b[0m\u001b[0;34m\u001b[0m\u001b[0m\n\u001b[0;32m--> 580\u001b[0;31m                 \u001b[0;32mreturn\u001b[0m \u001b[0mfunc\u001b[0m\u001b[0;34m(\u001b[0m\u001b[0margs\u001b[0m\u001b[0;34m[\u001b[0m\u001b[0;36m0\u001b[0m\u001b[0;34m]\u001b[0m\u001b[0;34m,\u001b[0m \u001b[0;34m**\u001b[0m\u001b[0mpargs\u001b[0m\u001b[0;34m)\u001b[0m\u001b[0;34m\u001b[0m\u001b[0;34m\u001b[0m\u001b[0m\n\u001b[0m\u001b[1;32m    581\u001b[0m         \u001b[0;32melse\u001b[0m\u001b[0;34m:\u001b[0m\u001b[0;34m\u001b[0m\u001b[0;34m\u001b[0m\u001b[0m\n\u001b[1;32m    582\u001b[0m             \u001b[0;32mdef\u001b[0m \u001b[0mfunc_call\u001b[0m\u001b[0;34m(\u001b[0m\u001b[0;34m*\u001b[0m\u001b[0margs\u001b[0m\u001b[0;34m,\u001b[0m \u001b[0;34m**\u001b[0m\u001b[0mkwargs\u001b[0m\u001b[0;34m)\u001b[0m\u001b[0;34m:\u001b[0m\u001b[0;34m\u001b[0m\u001b[0;34m\u001b[0m\u001b[0m\n",
            "\u001b[0;32m/usr/local/lib/python3.7/dist-packages/hdmf/backends/hdf5/h5tools.py\u001b[0m in \u001b[0;36m__init__\u001b[0;34m(self, **kwargs)\u001b[0m\n\u001b[1;32m     74\u001b[0m         \u001b[0mself\u001b[0m\u001b[0;34m.\u001b[0m\u001b[0m__mode\u001b[0m \u001b[0;34m=\u001b[0m \u001b[0mmode\u001b[0m\u001b[0;34m\u001b[0m\u001b[0;34m\u001b[0m\u001b[0m\n\u001b[1;32m     75\u001b[0m         \u001b[0mself\u001b[0m\u001b[0;34m.\u001b[0m\u001b[0m__file\u001b[0m \u001b[0;34m=\u001b[0m \u001b[0mfile_obj\u001b[0m\u001b[0;34m\u001b[0m\u001b[0;34m\u001b[0m\u001b[0m\n\u001b[0;32m---> 76\u001b[0;31m         \u001b[0msuper\u001b[0m\u001b[0;34m(\u001b[0m\u001b[0;34m)\u001b[0m\u001b[0;34m.\u001b[0m\u001b[0m__init__\u001b[0m\u001b[0;34m(\u001b[0m\u001b[0mmanager\u001b[0m\u001b[0;34m,\u001b[0m \u001b[0msource\u001b[0m\u001b[0;34m=\u001b[0m\u001b[0mpath\u001b[0m\u001b[0;34m)\u001b[0m\u001b[0;34m\u001b[0m\u001b[0;34m\u001b[0m\u001b[0m\n\u001b[0m\u001b[1;32m     77\u001b[0m         \u001b[0mself\u001b[0m\u001b[0;34m.\u001b[0m\u001b[0m__built\u001b[0m \u001b[0;34m=\u001b[0m \u001b[0mdict\u001b[0m\u001b[0;34m(\u001b[0m\u001b[0;34m)\u001b[0m       \u001b[0;31m# keep track of each builder for each dataset/group/link for each file\u001b[0m\u001b[0;34m\u001b[0m\u001b[0;34m\u001b[0m\u001b[0m\n\u001b[1;32m     78\u001b[0m         \u001b[0mself\u001b[0m\u001b[0;34m.\u001b[0m\u001b[0m__read\u001b[0m \u001b[0;34m=\u001b[0m \u001b[0mdict\u001b[0m\u001b[0;34m(\u001b[0m\u001b[0;34m)\u001b[0m        \u001b[0;31m# keep track of which files have been read. Key is the filename value is the builder\u001b[0m\u001b[0;34m\u001b[0m\u001b[0;34m\u001b[0m\u001b[0m\n",
            "\u001b[0;32m/usr/local/lib/python3.7/dist-packages/hdmf/utils.py\u001b[0m in \u001b[0;36mfunc_call\u001b[0;34m(*args, **kwargs)\u001b[0m\n\u001b[1;32m    578\u001b[0m             \u001b[0;32mdef\u001b[0m \u001b[0mfunc_call\u001b[0m\u001b[0;34m(\u001b[0m\u001b[0;34m*\u001b[0m\u001b[0margs\u001b[0m\u001b[0;34m,\u001b[0m \u001b[0;34m**\u001b[0m\u001b[0mkwargs\u001b[0m\u001b[0;34m)\u001b[0m\u001b[0;34m:\u001b[0m\u001b[0;34m\u001b[0m\u001b[0;34m\u001b[0m\u001b[0m\n\u001b[1;32m    579\u001b[0m                 \u001b[0mpargs\u001b[0m \u001b[0;34m=\u001b[0m \u001b[0m_check_args\u001b[0m\u001b[0;34m(\u001b[0m\u001b[0margs\u001b[0m\u001b[0;34m,\u001b[0m \u001b[0mkwargs\u001b[0m\u001b[0;34m)\u001b[0m\u001b[0;34m\u001b[0m\u001b[0;34m\u001b[0m\u001b[0m\n\u001b[0;32m--> 580\u001b[0;31m                 \u001b[0;32mreturn\u001b[0m \u001b[0mfunc\u001b[0m\u001b[0;34m(\u001b[0m\u001b[0margs\u001b[0m\u001b[0;34m[\u001b[0m\u001b[0;36m0\u001b[0m\u001b[0;34m]\u001b[0m\u001b[0;34m,\u001b[0m \u001b[0;34m**\u001b[0m\u001b[0mpargs\u001b[0m\u001b[0;34m)\u001b[0m\u001b[0;34m\u001b[0m\u001b[0;34m\u001b[0m\u001b[0m\n\u001b[0m\u001b[1;32m    581\u001b[0m         \u001b[0;32melse\u001b[0m\u001b[0;34m:\u001b[0m\u001b[0;34m\u001b[0m\u001b[0;34m\u001b[0m\u001b[0m\n\u001b[1;32m    582\u001b[0m             \u001b[0;32mdef\u001b[0m \u001b[0mfunc_call\u001b[0m\u001b[0;34m(\u001b[0m\u001b[0;34m*\u001b[0m\u001b[0margs\u001b[0m\u001b[0;34m,\u001b[0m \u001b[0;34m**\u001b[0m\u001b[0mkwargs\u001b[0m\u001b[0;34m)\u001b[0m\u001b[0;34m:\u001b[0m\u001b[0;34m\u001b[0m\u001b[0;34m\u001b[0m\u001b[0m\n",
            "\u001b[0;32m/usr/local/lib/python3.7/dist-packages/hdmf/backends/io.py\u001b[0m in \u001b[0;36m__init__\u001b[0;34m(self, **kwargs)\u001b[0m\n\u001b[1;32m     20\u001b[0m         \u001b[0mself\u001b[0m\u001b[0;34m.\u001b[0m\u001b[0m__built\u001b[0m \u001b[0;34m=\u001b[0m \u001b[0mdict\u001b[0m\u001b[0;34m(\u001b[0m\u001b[0;34m)\u001b[0m\u001b[0;34m\u001b[0m\u001b[0;34m\u001b[0m\u001b[0m\n\u001b[1;32m     21\u001b[0m         \u001b[0mself\u001b[0m\u001b[0;34m.\u001b[0m\u001b[0m__source\u001b[0m \u001b[0;34m=\u001b[0m \u001b[0msource\u001b[0m\u001b[0;34m\u001b[0m\u001b[0;34m\u001b[0m\u001b[0m\n\u001b[0;32m---> 22\u001b[0;31m         \u001b[0mself\u001b[0m\u001b[0;34m.\u001b[0m\u001b[0mopen\u001b[0m\u001b[0;34m(\u001b[0m\u001b[0;34m)\u001b[0m\u001b[0;34m\u001b[0m\u001b[0;34m\u001b[0m\u001b[0m\n\u001b[0m\u001b[1;32m     23\u001b[0m \u001b[0;34m\u001b[0m\u001b[0m\n\u001b[1;32m     24\u001b[0m     \u001b[0;34m@\u001b[0m\u001b[0mproperty\u001b[0m\u001b[0;34m\u001b[0m\u001b[0;34m\u001b[0m\u001b[0m\n",
            "\u001b[0;32m/usr/local/lib/python3.7/dist-packages/hdmf/backends/hdf5/h5tools.py\u001b[0m in \u001b[0;36mopen\u001b[0;34m(self)\u001b[0m\n\u001b[1;32m    764\u001b[0m                 \u001b[0mkwargs\u001b[0m\u001b[0;34m.\u001b[0m\u001b[0mupdate\u001b[0m\u001b[0;34m(\u001b[0m\u001b[0mdriver\u001b[0m\u001b[0;34m=\u001b[0m\u001b[0mself\u001b[0m\u001b[0;34m.\u001b[0m\u001b[0mdriver\u001b[0m\u001b[0;34m)\u001b[0m\u001b[0;34m\u001b[0m\u001b[0;34m\u001b[0m\u001b[0m\n\u001b[1;32m    765\u001b[0m \u001b[0;34m\u001b[0m\u001b[0m\n\u001b[0;32m--> 766\u001b[0;31m             \u001b[0mself\u001b[0m\u001b[0;34m.\u001b[0m\u001b[0m__file\u001b[0m \u001b[0;34m=\u001b[0m \u001b[0mFile\u001b[0m\u001b[0;34m(\u001b[0m\u001b[0mself\u001b[0m\u001b[0;34m.\u001b[0m\u001b[0msource\u001b[0m\u001b[0;34m,\u001b[0m \u001b[0mopen_flag\u001b[0m\u001b[0;34m,\u001b[0m \u001b[0;34m**\u001b[0m\u001b[0mkwargs\u001b[0m\u001b[0;34m)\u001b[0m\u001b[0;34m\u001b[0m\u001b[0;34m\u001b[0m\u001b[0m\n\u001b[0m\u001b[1;32m    767\u001b[0m \u001b[0;34m\u001b[0m\u001b[0m\n\u001b[1;32m    768\u001b[0m     \u001b[0;32mdef\u001b[0m \u001b[0mclose\u001b[0m\u001b[0;34m(\u001b[0m\u001b[0mself\u001b[0m\u001b[0;34m)\u001b[0m\u001b[0;34m:\u001b[0m\u001b[0;34m\u001b[0m\u001b[0;34m\u001b[0m\u001b[0m\n",
            "\u001b[0;32m/usr/local/lib/python3.7/dist-packages/h5py/_hl/files.py\u001b[0m in \u001b[0;36m__init__\u001b[0;34m(self, name, mode, driver, libver, userblock_size, swmr, rdcc_nslots, rdcc_nbytes, rdcc_w0, track_order, **kwds)\u001b[0m\n\u001b[1;32m    406\u001b[0m                 fid = make_fid(name, mode, userblock_size,\n\u001b[1;32m    407\u001b[0m                                \u001b[0mfapl\u001b[0m\u001b[0;34m,\u001b[0m \u001b[0mfcpl\u001b[0m\u001b[0;34m=\u001b[0m\u001b[0mmake_fcpl\u001b[0m\u001b[0;34m(\u001b[0m\u001b[0mtrack_order\u001b[0m\u001b[0;34m=\u001b[0m\u001b[0mtrack_order\u001b[0m\u001b[0;34m)\u001b[0m\u001b[0;34m,\u001b[0m\u001b[0;34m\u001b[0m\u001b[0;34m\u001b[0m\u001b[0m\n\u001b[0;32m--> 408\u001b[0;31m                                swmr=swmr)\n\u001b[0m\u001b[1;32m    409\u001b[0m \u001b[0;34m\u001b[0m\u001b[0m\n\u001b[1;32m    410\u001b[0m             \u001b[0;32mif\u001b[0m \u001b[0misinstance\u001b[0m\u001b[0;34m(\u001b[0m\u001b[0mlibver\u001b[0m\u001b[0;34m,\u001b[0m \u001b[0mtuple\u001b[0m\u001b[0;34m)\u001b[0m\u001b[0;34m:\u001b[0m\u001b[0;34m\u001b[0m\u001b[0;34m\u001b[0m\u001b[0m\n",
            "\u001b[0;32m/usr/local/lib/python3.7/dist-packages/h5py/_hl/files.py\u001b[0m in \u001b[0;36mmake_fid\u001b[0;34m(name, mode, userblock_size, fapl, fcpl, swmr)\u001b[0m\n\u001b[1;32m    175\u001b[0m         \u001b[0mfid\u001b[0m \u001b[0;34m=\u001b[0m \u001b[0mh5f\u001b[0m\u001b[0;34m.\u001b[0m\u001b[0mopen\u001b[0m\u001b[0;34m(\u001b[0m\u001b[0mname\u001b[0m\u001b[0;34m,\u001b[0m \u001b[0mh5f\u001b[0m\u001b[0;34m.\u001b[0m\u001b[0mACC_RDWR\u001b[0m\u001b[0;34m,\u001b[0m \u001b[0mfapl\u001b[0m\u001b[0;34m=\u001b[0m\u001b[0mfapl\u001b[0m\u001b[0;34m)\u001b[0m\u001b[0;34m\u001b[0m\u001b[0;34m\u001b[0m\u001b[0m\n\u001b[1;32m    176\u001b[0m     \u001b[0;32melif\u001b[0m \u001b[0mmode\u001b[0m \u001b[0;32min\u001b[0m \u001b[0;34m[\u001b[0m\u001b[0;34m'w-'\u001b[0m\u001b[0;34m,\u001b[0m \u001b[0;34m'x'\u001b[0m\u001b[0;34m]\u001b[0m\u001b[0;34m:\u001b[0m\u001b[0;34m\u001b[0m\u001b[0;34m\u001b[0m\u001b[0m\n\u001b[0;32m--> 177\u001b[0;31m         \u001b[0mfid\u001b[0m \u001b[0;34m=\u001b[0m \u001b[0mh5f\u001b[0m\u001b[0;34m.\u001b[0m\u001b[0mcreate\u001b[0m\u001b[0;34m(\u001b[0m\u001b[0mname\u001b[0m\u001b[0;34m,\u001b[0m \u001b[0mh5f\u001b[0m\u001b[0;34m.\u001b[0m\u001b[0mACC_EXCL\u001b[0m\u001b[0;34m,\u001b[0m \u001b[0mfapl\u001b[0m\u001b[0;34m=\u001b[0m\u001b[0mfapl\u001b[0m\u001b[0;34m,\u001b[0m \u001b[0mfcpl\u001b[0m\u001b[0;34m=\u001b[0m\u001b[0mfcpl\u001b[0m\u001b[0;34m)\u001b[0m\u001b[0;34m\u001b[0m\u001b[0;34m\u001b[0m\u001b[0m\n\u001b[0m\u001b[1;32m    178\u001b[0m     \u001b[0;32melif\u001b[0m \u001b[0mmode\u001b[0m \u001b[0;34m==\u001b[0m \u001b[0;34m'w'\u001b[0m\u001b[0;34m:\u001b[0m\u001b[0;34m\u001b[0m\u001b[0;34m\u001b[0m\u001b[0m\n\u001b[1;32m    179\u001b[0m         \u001b[0mfid\u001b[0m \u001b[0;34m=\u001b[0m \u001b[0mh5f\u001b[0m\u001b[0;34m.\u001b[0m\u001b[0mcreate\u001b[0m\u001b[0;34m(\u001b[0m\u001b[0mname\u001b[0m\u001b[0;34m,\u001b[0m \u001b[0mh5f\u001b[0m\u001b[0;34m.\u001b[0m\u001b[0mACC_TRUNC\u001b[0m\u001b[0;34m,\u001b[0m \u001b[0mfapl\u001b[0m\u001b[0;34m=\u001b[0m\u001b[0mfapl\u001b[0m\u001b[0;34m,\u001b[0m \u001b[0mfcpl\u001b[0m\u001b[0;34m=\u001b[0m\u001b[0mfcpl\u001b[0m\u001b[0;34m)\u001b[0m\u001b[0;34m\u001b[0m\u001b[0;34m\u001b[0m\u001b[0m\n",
            "\u001b[0;32mh5py/_objects.pyx\u001b[0m in \u001b[0;36mh5py._objects.with_phil.wrapper\u001b[0;34m()\u001b[0m\n",
            "\u001b[0;32mh5py/_objects.pyx\u001b[0m in \u001b[0;36mh5py._objects.with_phil.wrapper\u001b[0;34m()\u001b[0m\n",
            "\u001b[0;32mh5py/h5f.pyx\u001b[0m in \u001b[0;36mh5py.h5f.create\u001b[0;34m()\u001b[0m\n",
            "\u001b[0;31mOSError\u001b[0m: Unable to create file (unable to open file: name = 'content/sample_data/08-10-30-1(1).nwb', errno = 2, error message = 'No such file or directory', flags = 15, o_flags = c2)"
          ]
        }
      ]
    },
    {
      "cell_type": "code",
      "metadata": {
        "id": "l9LZmVPLwb7Z"
      },
      "source": [
        ""
      ],
      "execution_count": null,
      "outputs": []
    }
  ]
}